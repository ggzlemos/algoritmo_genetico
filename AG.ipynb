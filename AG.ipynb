{
  "nbformat": 4,
  "nbformat_minor": 0,
  "metadata": {
    "colab": {
      "name": "AG.ipynb",
      "provenance": [],
      "authorship_tag": "ABX9TyPz84ZI9PMaG/qVgdRmpqQA",
      "include_colab_link": true
    },
    "kernelspec": {
      "name": "python3",
      "display_name": "Python 3"
    },
    "language_info": {
      "name": "python"
    }
  },
  "cells": [
    {
      "cell_type": "markdown",
      "metadata": {
        "id": "view-in-github",
        "colab_type": "text"
      },
      "source": [
        "<a href=\"https://colab.research.google.com/github/ggzlemos/algoritmo_genetico/blob/main/AG.ipynb\" target=\"_parent\"><img src=\"https://colab.research.google.com/assets/colab-badge.svg\" alt=\"Open In Colab\"/></a>"
      ]
    },
    {
      "cell_type": "code",
      "metadata": {
        "id": "-dMXIdvBT_Dr"
      },
      "source": [
        "import numpy as np\n",
        "import random"
      ],
      "execution_count": 2,
      "outputs": []
    },
    {
      "cell_type": "code",
      "metadata": {
        "id": "3xRaW7dTUFJL"
      },
      "source": [
        "#configuração da mochila\n",
        "pesos = np.array([63,21,2,32,13,80,19,37,56,41,14,8,32,42,7])\n",
        "valores = np.array([13,2,20,10,7,14,7,2,2,4,16,17,17,3,21])"
      ],
      "execution_count": 3,
      "outputs": []
    },
    {
      "cell_type": "code",
      "metadata": {
        "id": "QJWN7bSIqmrT"
      },
      "source": [
        "#função objetivo\n",
        "def eval(solucao, pesos, valores):\n",
        "  peso = 0\n",
        "  f = 0  \n",
        "  for i in range(len(solucao)):\n",
        "    if solucao[i] == 1:\n",
        "      peso += pesos[i]\n",
        "      f += valores[i]\n",
        "  return peso, f"
      ],
      "execution_count": 4,
      "outputs": []
    },
    {
      "cell_type": "code",
      "metadata": {
        "id": "FJRtOczLqzbh"
      },
      "source": [
        "def escolhe_pais(populacao, eval_pop):\n",
        "  probabilidades = eval_pop \n",
        "  pai = random.choices(populacao, probabilidades, k=1)[0]\n",
        "\n",
        "  return pai"
      ],
      "execution_count": 5,
      "outputs": []
    },
    {
      "cell_type": "code",
      "metadata": {
        "id": "otHt-dR1a7RE"
      },
      "source": [
        "def gera_populcao(n_pop, tamanho):\n",
        "  populacao = []\n",
        "  while len(populacao) < n_pop:\n",
        "    solucao = np.random.randint(2, size=len(pesos))\n",
        "    populacao.append(solucao)\n",
        "    \n",
        "  populacao.sort(key=lambda x: eval(x, pesos, valores)[1], reverse=True)    \n",
        "  return populacao"
      ],
      "execution_count": 6,
      "outputs": []
    },
    {
      "cell_type": "code",
      "metadata": {
        "id": "UbyzrZ7dF3Fv"
      },
      "source": [
        "def cruzamento(pai, mae, taxa_rep):  \n",
        "  rand = random.random()\n",
        "\n",
        "  filho_1 = np.copy(pai)\n",
        "  filho_2 = np.copy(mae)\n",
        "\n",
        "  if rand < taxa_rep:\n",
        "    x = random.randint(1, len(pai)-1) \n",
        "    filho_1 = np.concatenate((pai[:x], mae[x:]))\n",
        "    filho_2 = np.concatenate((mae[:x], pai[x:]))\n",
        "\n",
        "  return filho_1, filho_2"
      ],
      "execution_count": 21,
      "outputs": []
    },
    {
      "cell_type": "code",
      "metadata": {
        "id": "LC8iBgEgSmvc"
      },
      "source": [
        "def mutacao(individuo, taxa_mutacao):\n",
        "  rand = random.random() #roleta para determinar probabilidade\n",
        "  indice = random.choices([i for i in range(len(individuo)-1)]) #roleta para determinar indice  \n",
        "  if rand < taxa_mutacao:\n",
        "    individuo[indice[0]] = 1 - individuo[indice[0]]"
      ],
      "execution_count": 8,
      "outputs": []
    },
    {
      "cell_type": "code",
      "metadata": {
        "id": "I4ZaNA16SvPv"
      },
      "source": [
        "def AG(pesos, valores, n_pop, num_iter, taxa_rep, taxa_mut, limite_eval):\n",
        "  populacao = gera_populcao(n_pop, len(pesos))\n",
        "  count = 0\n",
        "  melhor, melhor_eval = populacao.pop(0), eval(populacao[0], pesos, valores)[1]\n",
        "\n",
        "  for i in range(num_iter):\n",
        "    eval_pop = [eval(j, pesos, valores)[1] for j in populacao]       \n",
        "    \n",
        "    if eval_pop[0] > melhor_eval and eval(populacao[0], pesos, valores)[0] <= limite_eval:\n",
        "      melhor, melhor_eval = populacao[0], eval_pop[0]  \n",
        "\n",
        "    pais = [escolhe_pais(populacao, eval_pop) for i in range(n_pop)]   \n",
        "    nova_pop = []\n",
        "    for i in range(0, n_pop-1, 2):     \n",
        "      pai, mae = pais[i], pais[i+1]\n",
        "          \n",
        "      filhos = cruzamento(pai, mae, taxa_rep)\n",
        "      for j in filhos:\n",
        "        mutacao(j, taxa_mut)\n",
        "        nova_pop.append(j)\n",
        "    count+=1\n",
        "    nova_pop.sort(key=lambda x: eval(x, pesos, valores)[1], reverse=True)   \n",
        "    populacao = nova_pop.copy()\n",
        "  return melhor, melhor_eval"
      ],
      "execution_count": 26,
      "outputs": []
    },
    {
      "cell_type": "code",
      "metadata": {
        "colab": {
          "base_uri": "https://localhost:8080/"
        },
        "id": "3RZ52nV8ZZ4Q",
        "outputId": "d7ae2ef8-7bc7-480d-8e39-82e8a4194a5f"
      },
      "source": [
        "AG(pesos, valores, 10, 200, 0.9, 0.05, 275)"
      ],
      "execution_count": 29,
      "outputs": [
        {
          "output_type": "execute_result",
          "data": {
            "text/plain": [
              "(array([1, 0, 1, 1, 1, 0, 1, 1, 0, 0, 1, 1, 1, 1, 1]), 133)"
            ]
          },
          "metadata": {
            "tags": []
          },
          "execution_count": 29
        }
      ]
    }
  ]
}